{
 "cells": [
  {
   "cell_type": "code",
   "execution_count": 42,
   "metadata": {
    "collapsed": false
   },
   "outputs": [],
   "source": [
    "import jieba\n",
    "import jieba.analyse\n",
    "\n",
    "raw = '''\n",
    "奈良公园是位于奈良市若草山麓的都市公园，东大寺、春日大社等奈良的名胜古迹都在这里，是游奈良的必到之处。\n",
    "位于公园附近的若草山是俯瞰奈良风光的绝妙之地，每年1月还会在这里举行“若草烧山”等传统活动。\n",
    "悠闲自在地漫步其中是游览公园的最佳方式，这里还有最集中的鹿群，喂食萌萌的小鹿也是游人最大的观赏点。\n",
    "这里的鹿也极富灵性，见到游人手上有鹿饼会主动走来，所以需要当心成群结队的小鹿来将你扑倒哦。\n",
    "'''"
   ]
  },
  {
   "cell_type": "code",
   "execution_count": 43,
   "metadata": {
    "collapsed": false
   },
   "outputs": [
    {
     "name": "stdout",
     "output_type": "stream",
     "text": [
      "\n",
      " 奈良 公园 是 位于 奈良市 若草 山麓 的 都市 公园 ， 东大寺 、 春日 大社 等 奈良 的 名胜古迹 都 在 这里 ， 是 游 奈良 的 必到 之处 。 \n",
      " 位于 公园 附近 的 若 草山 是 俯瞰 奈良 风光 的 绝妙 之地 ， 每年 1 月 还 会 在 这里 举行 “ 若草 烧山 ” 等 传统 活动 。 \n",
      " 悠闲自在 地 漫步 其中 是 游览 公园 的 最佳 方式 ， 这里 还有 最 集中 的 鹿群 ， 喂食 萌萌 的 小鹿 也 是 游人 最大 的 观赏 点 。 \n",
      " 这里 的 鹿 也 极富 灵性 ， 见到 游人 手上 有 鹿饼 会 主动 走来 ， 所以 需要 当心 成群结队 的 小鹿 来 将 你 扑倒 哦 。 \n",
      "\n"
     ]
    }
   ],
   "source": [
    "seg = jieba.cut(raw)\n",
    "print(' '.join(seg))"
   ]
  },
  {
   "cell_type": "code",
   "execution_count": 47,
   "metadata": {
    "collapsed": false
   },
   "outputs": [
    {
     "data": {
      "text/plain": [
       "['奈良', '公园', '若草', '小鹿', '这里', '游人', '奈良市', '悠闲自在', '烧山', '萌萌']"
      ]
     },
     "execution_count": 47,
     "metadata": {},
     "output_type": "execute_result"
    }
   ],
   "source": [
    "tags = jieba.analyse.extract_tags(raw, topK=10)\n",
    "tags"
   ]
  },
  {
   "cell_type": "code",
   "execution_count": null,
   "metadata": {
    "collapsed": true
   },
   "outputs": [],
   "source": []
  }
 ],
 "metadata": {
  "kernelspec": {
   "display_name": "Python 3",
   "language": "python",
   "name": "python3"
  },
  "language_info": {
   "codemirror_mode": {
    "name": "ipython",
    "version": 3
   },
   "file_extension": ".py",
   "mimetype": "text/x-python",
   "name": "python",
   "nbconvert_exporter": "python",
   "pygments_lexer": "ipython3",
   "version": "3.5.2"
  }
 },
 "nbformat": 4,
 "nbformat_minor": 2
}
